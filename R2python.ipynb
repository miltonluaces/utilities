{
 "cells": [
  {
   "cell_type": "code",
   "execution_count": null,
   "metadata": {},
   "outputs": [],
   "source": [
    "import rpy2.robjects as ro\n",
    "\n",
    "pi = ro.r('pi')\n",
    "print(pi[0])\n",
    "\n",
    "ro.r(''' \n",
    "    f <- function(r, verbose=FALSE) {\n",
    "            if (verbose) { cat(\"I am calling f().\\n\") }\n",
    "                2 * pi * r\n",
    "            }\n",
    "            f(3) \n",
    "     ''')\n",
    "\n",
    "\n",
    "rf = ro.globalenv['f']\n",
    "print(rf.r_repr())\n",
    " \n",
    "res = rf(3)\n",
    "print(res)\n",
    "\n",
    "r = ro.r\n",
    "\n",
    "x = ro.IntVector(range(10))\n",
    "y = r.rnorm(10)\n",
    "\n",
    "r.X11()\n",
    "r.layout(r.matrix(ro.IntVector([1,2,3,2]), nrow=2, ncol=2))\n",
    "r.plot(r.runif(10), y, xlab=\"runif\", ylab=\"foo/bar\", col=\"red\")\n",
    "input(\"Press Enter to continue...\")\n",
    "\n",
    "\n"
   ]
  }
 ],
 "metadata": {
  "kernelspec": {
   "display_name": "Python 3",
   "language": "python",
   "name": "python3"
  },
  "language_info": {
   "codemirror_mode": {
    "name": "ipython",
    "version": 3
   },
   "file_extension": ".py",
   "mimetype": "text/x-python",
   "name": "python",
   "nbconvert_exporter": "python",
   "pygments_lexer": "ipython3",
   "version": "3.8.1"
  }
 },
 "nbformat": 4,
 "nbformat_minor": 4
}
