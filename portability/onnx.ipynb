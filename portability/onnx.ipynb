{
 "cells": [
  {
   "cell_type": "markdown",
   "metadata": {},
   "source": [
    "# ONNX\n",
    "## A framework for model portability, interaction and transfer learning"
   ]
  },
  {
   "cell_type": "markdown",
   "metadata": {},
   "source": [
    " ![](onnx.jpg)\n",
    " "
   ]
  },
  {
   "cell_type": "markdown",
   "metadata": {},
   "source": [
    "## Imports"
   ]
  },
  {
   "cell_type": "code",
   "execution_count": 1,
   "metadata": {},
   "outputs": [],
   "source": [
    "import numpy as np\n",
    "import pandas as pd\n",
    "from jupytalk.benchmark import make_dataframe\n",
    "import onnx\n",
    "import onnxmltools\n",
    "import onnxmltools.convert.common.data_types\n",
    "import onnxruntime as rt\n",
    "from skl2onnx import convert_sklearn\n",
    "from skl2onnx.common.data_types import FloatTensorType\n",
    "from sklearn.datasets import load_diabetes\n",
    "from sklearn.ensemble import RandomForestRegressor"
   ]
  },
  {
   "cell_type": "markdown",
   "metadata": {},
   "source": [
    "## Load data"
   ]
  },
  {
   "cell_type": "code",
   "execution_count": 2,
   "metadata": {},
   "outputs": [
    {
     "data": {
      "text/html": [
       "<div>\n",
       "<style scoped>\n",
       "    .dataframe tbody tr th:only-of-type {\n",
       "        vertical-align: middle;\n",
       "    }\n",
       "\n",
       "    .dataframe tbody tr th {\n",
       "        vertical-align: top;\n",
       "    }\n",
       "\n",
       "    .dataframe thead th {\n",
       "        text-align: right;\n",
       "    }\n",
       "</style>\n",
       "<table border=\"1\" class=\"dataframe\">\n",
       "  <thead>\n",
       "    <tr style=\"text-align: right;\">\n",
       "      <th></th>\n",
       "      <th>Label</th>\n",
       "      <th>F0</th>\n",
       "      <th>F1</th>\n",
       "      <th>F2</th>\n",
       "      <th>F3</th>\n",
       "      <th>F4</th>\n",
       "      <th>F5</th>\n",
       "      <th>F6</th>\n",
       "      <th>F7</th>\n",
       "      <th>F8</th>\n",
       "      <th>F9</th>\n",
       "    </tr>\n",
       "  </thead>\n",
       "  <tbody>\n",
       "    <tr>\n",
       "      <th>0</th>\n",
       "      <td>151.0</td>\n",
       "      <td>0.038076</td>\n",
       "      <td>0.050680</td>\n",
       "      <td>0.061696</td>\n",
       "      <td>0.021872</td>\n",
       "      <td>-0.044223</td>\n",
       "      <td>-0.034821</td>\n",
       "      <td>-0.043401</td>\n",
       "      <td>-0.002592</td>\n",
       "      <td>0.019908</td>\n",
       "      <td>-0.017646</td>\n",
       "    </tr>\n",
       "    <tr>\n",
       "      <th>1</th>\n",
       "      <td>75.0</td>\n",
       "      <td>-0.001882</td>\n",
       "      <td>-0.044642</td>\n",
       "      <td>-0.051474</td>\n",
       "      <td>-0.026328</td>\n",
       "      <td>-0.008449</td>\n",
       "      <td>-0.019163</td>\n",
       "      <td>0.074412</td>\n",
       "      <td>-0.039493</td>\n",
       "      <td>-0.068330</td>\n",
       "      <td>-0.092204</td>\n",
       "    </tr>\n",
       "  </tbody>\n",
       "</table>\n",
       "</div>"
      ],
      "text/plain": [
       "   Label        F0        F1        F2        F3        F4        F5  \\\n",
       "0  151.0  0.038076  0.050680  0.061696  0.021872 -0.044223 -0.034821   \n",
       "1   75.0 -0.001882 -0.044642 -0.051474 -0.026328 -0.008449 -0.019163   \n",
       "\n",
       "         F6        F7        F8        F9  \n",
       "0 -0.043401 -0.002592  0.019908 -0.017646  \n",
       "1  0.074412 -0.039493 -0.068330 -0.092204  "
      ]
     },
     "execution_count": 2,
     "metadata": {},
     "output_type": "execute_result"
    }
   ],
   "source": [
    "diabetes = load_diabetes()\n",
    "X_train = diabetes.data[:-20]\n",
    "X_test  = diabetes.data[-20:]\n",
    "y_train = diabetes.target[:-20]\n",
    "y_test  = diabetes.target[-20:]\n",
    "\n",
    "df = make_dataframe(y_train, X_train)\n",
    "df.to_csv(\"diabetes.csv\", index=False)\n",
    "df.head(n=2)"
   ]
  },
  {
   "cell_type": "markdown",
   "metadata": {},
   "source": [
    "## Build the model"
   ]
  },
  {
   "cell_type": "code",
   "execution_count": 3,
   "metadata": {},
   "outputs": [
    {
     "data": {
      "text/plain": [
       "RandomForestRegressor(bootstrap=True, criterion='mse', max_depth=None,\n",
       "                      max_features='auto', max_leaf_nodes=None,\n",
       "                      min_impurity_decrease=0.0, min_impurity_split=None,\n",
       "                      min_samples_leaf=1, min_samples_split=2,\n",
       "                      min_weight_fraction_leaf=0.0, n_estimators=10,\n",
       "                      n_jobs=None, oob_score=False, random_state=None,\n",
       "                      verbose=0, warm_start=False)"
      ]
     },
     "execution_count": 3,
     "metadata": {},
     "output_type": "execute_result"
    }
   ],
   "source": [
    "rf = RandomForestRegressor(n_estimators=10)\n",
    "rf.fit(X_train, y_train)"
   ]
  },
  {
   "cell_type": "markdown",
   "metadata": {},
   "source": [
    "## Convert to ONNX and save"
   ]
  },
  {
   "cell_type": "code",
   "execution_count": 4,
   "metadata": {},
   "outputs": [
    {
     "name": "stdout",
     "output_type": "stream",
     "text": [
      "ir_version: 6\n",
      "producer_name: \"skl2onnx\"\n",
      "producer_version: \"1.6.0\"\n",
      "domain: \"ai.onnx\"\n",
      "model_version: 0\n",
      "doc_string: \"\"\n",
      "graph {\n",
      "  node {\n",
      "    input: \"input\"\n",
      "    output: \"variable\"\n",
      "    name: \"TreeEnsembleRegressor\"\n",
      "    op_type: \"TreeEnsembleRegressor\"\n",
      "    attribute {\n",
      "      name: \"n_targets\"\n",
      "      i: 1\n",
      "      type: INT\n",
      "    }\n",
      "    attribute {\n",
      "      name: \"nodes_falsenodeids\"\n",
      "      ints: 250\n",
      "      ints: 171\n",
      "      ints: 68\n",
      "      ints: 19\n",
      "      ints: 8\n",
      "      \n",
      "...\n"
     ]
    }
   ],
   "source": [
    "model_onnx = convert_sklearn(rf, \"rf_diabetes\", [('input', FloatTensorType([1, 10]))])\n",
    "print(str(model_onnx)[:450] + \"\\n...\")\n",
    "\n",
    "with open('rf_sklearn.onnx', \"wb\") as f:\n",
    "    f.write(model_onnx.SerializeToString())"
   ]
  },
  {
   "cell_type": "markdown",
   "metadata": {},
   "source": [
    "## Load ONNX model and predict"
   ]
  },
  {
   "cell_type": "code",
   "execution_count": 11,
   "metadata": {},
   "outputs": [
    {
     "name": "stdout",
     "output_type": "stream",
     "text": [
      "Input: NodeArg(name='input', type='tensor(float)', shape=[1, 10])\n",
      "Output: NodeArg(name='variable', type='tensor(float)', shape=[1, 1])\n",
      "\n",
      "Prediction: [array([[217.70001]], dtype=float32)]\n"
     ]
    }
   ],
   "source": [
    "sess = rt.InferenceSession(\"rf_sklearn.onnx\")\n",
    "\n",
    "for i in sess.get_inputs(): print('Input:', i)\n",
    "for o in sess.get_outputs(): print('Output:', o)\n",
    "\n",
    "def predict_onnxrt(x):\n",
    "    return sess.run([\"variable\"], {'input': x})\n",
    "\n",
    "print(\"\\nPrediction:\", predict_onnxrt(X_test[:1].astype(np.float32)))"
   ]
  },
  {
   "cell_type": "markdown",
   "metadata": {},
   "source": [
    "## Credits & Links"
   ]
  },
  {
   "cell_type": "markdown",
   "metadata": {},
   "source": [
    "https://towardsdatascience.com/onnx-made-easy-957e60d16e94  \n",
    "http://www.xavierdupre.fr/app/jupytalk/helpsphinx/notebooks/onnx_deploy_pyparis.html"
   ]
  },
  {
   "cell_type": "code",
   "execution_count": null,
   "metadata": {},
   "outputs": [],
   "source": []
  }
 ],
 "metadata": {
  "kernelspec": {
   "display_name": "Python 3",
   "language": "python",
   "name": "python3"
  },
  "language_info": {
   "codemirror_mode": {
    "name": "ipython",
    "version": 3
   },
   "file_extension": ".py",
   "mimetype": "text/x-python",
   "name": "python",
   "nbconvert_exporter": "python",
   "pygments_lexer": "ipython3",
   "version": "3.7.1"
  }
 },
 "nbformat": 4,
 "nbformat_minor": 4
}
