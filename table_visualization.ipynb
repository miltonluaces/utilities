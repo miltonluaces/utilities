{
 "cells": [
  {
   "cell_type": "code",
   "execution_count": null,
   "metadata": {},
   "outputs": [],
   "source": [
    "import numpy as np\n",
    "import pandas as pd\n",
    "import matplotlib.pyplot as plt\n",
    "import asciitable as at\n",
    "import tableprint as tp\n",
    "\n",
    "\n",
    "# Show Table\n",
    "def ShowTable(data, colNames, rowNames=None): \n",
    "    plt.table(cellText=data, rowLabels=rowNames, colLabels=colNames, loc=\"upper center\")\n",
    "    plt.axis('off')\n",
    "    plt.show()\n",
    "\n",
    "def ShowDataFrame(df):\n",
    "    colNames = np.asarray(df.columns)\n",
    "    plt.table(cellText=df.values, rowLabels=None, colLabels=colNames, loc=\"upper center\")\n",
    "    plt.axis('off')\n",
    "    plt.show()\n",
    "\n",
    "if __name__ == \"__main__\":\n",
    "\n",
    "    data = np.random.randn(10,3)\n",
    "    headers = ['Column A', 'Column B', 'Column C']\n",
    "    tp.table(data, headers)\n",
    "\n",
    "    # Write table \n",
    "    x = np.array([1, 2, 3])\n",
    "    y = x**2\n",
    "    #at.write({'x': x, 'y': y}, 'outfile.dat', names=['x', 'y'])\n",
    "    print(\"Ok\")\n"
   ]
  }
 ],
 "metadata": {
  "kernelspec": {
   "display_name": "Python 3",
   "language": "python",
   "name": "python3"
  },
  "language_info": {
   "codemirror_mode": {
    "name": "ipython",
    "version": 3
   },
   "file_extension": ".py",
   "mimetype": "text/x-python",
   "name": "python",
   "nbconvert_exporter": "python",
   "pygments_lexer": "ipython3",
   "version": "3.8.1"
  }
 },
 "nbformat": 4,
 "nbformat_minor": 4
}
