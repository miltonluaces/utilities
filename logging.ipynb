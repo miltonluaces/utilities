{
 "cells": [
  {
   "cell_type": "code",
   "execution_count": null,
   "metadata": {},
   "outputs": [],
   "source": [
    "import logging\n",
    "import math\n",
    "\n",
    "# Create and configure logger\n",
    "LOG_FORMAT = \"%(levelname)s %(asctime)s - %(message)s\"\n",
    "logging.basicConfig(filename = \"E:\\\\python\\\\lumberjack.log\", \n",
    "\t\t\t\t\tlevel = logging.DEBUG,\n",
    "\t\t\t\t\tformat = LOG_FORMAT)\n",
    "logger = logging.getLogger()\n",
    "\n",
    "def quadratic_formula(a, b, c):\n",
    "\t\"\"\"Return the solutions to the equation ax^2 + bx + c = 0.\"\"\"\n",
    "\tlogger.info(\"quadratic_formula({0}, {1}, {2})\".format(a, b, c))\n",
    "\t\n",
    "\t# Compute the discriminant\n",
    "\tlogger.debug(\"# Compute the discriminant\")\n",
    "\tdisc = b ** 2 - 4 a * c\n",
    "\t\n",
    "\t# Compute the two roots\n",
    "\tlogger.debug(\"# Compute the two roots\")\n",
    "\troot1 = (-b + math.sqrt(disc)) / (2 * a)\n",
    "\troot2 = (-b - math.sqrt(disc)) / (2 * a)\n",
    "\t\n",
    "\t# Return the roots\n",
    "\tlogger.debug(\"# Return the roots\")\n",
    "\treturn (root1, root2)\n",
    "\n",
    "roots = quadratic_formula(1, 0, -4)\n",
    "print(roots)\n",
    "\n"
   ]
  }
 ],
 "metadata": {
  "kernelspec": {
   "display_name": "Python 3",
   "language": "python",
   "name": "python3"
  },
  "language_info": {
   "codemirror_mode": {
    "name": "ipython",
    "version": 3
   },
   "file_extension": ".py",
   "mimetype": "text/x-python",
   "name": "python",
   "nbconvert_exporter": "python",
   "pygments_lexer": "ipython3",
   "version": "3.8.1"
  }
 },
 "nbformat": 4,
 "nbformat_minor": 4
}
