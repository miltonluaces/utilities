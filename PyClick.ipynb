{
 "cells": [
  {
   "cell_type": "markdown",
   "metadata": {},
   "source": [
    "# Click models"
   ]
  },
  {
   "cell_type": "markdown",
   "metadata": {},
   "source": [
    "## Imports"
   ]
  },
  {
   "cell_type": "code",
   "execution_count": null,
   "metadata": {},
   "outputs": [],
   "source": [
    "import sys\n",
    "import time\n",
    "from pyclick.click_models.Evaluation import LogLikelihood, Perplexity\n",
    "from pyclick.click_models.UBM import UBM\n",
    "from pyclick.click_models.DBN import DBN\n",
    "from pyclick.click_models.SDBN import SDBN\n",
    "from pyclick.click_models.DCM import DCM\n",
    "from pyclick.click_models.CCM import CCM\n",
    "from pyclick.click_models.CTR import DCTR, RCTR, GCTR\n",
    "from pyclick.click_models.CM import CM\n",
    "from pyclick.click_models.PBM import PBM\n",
    "from pyclick.utils.Utils import Utils\n",
    "from pyclick.utils.YandexRelPredChallengeParser import YandexRelPredChallengeParser"
   ]
  },
  {
   "cell_type": "markdown",
   "metadata": {},
   "source": [
    "## Load data and params"
   ]
  },
  {
   "cell_type": "code",
   "execution_count": 159,
   "metadata": {},
   "outputs": [
    {
     "data": {
      "text/plain": [
       "{\"query\": \"28490\", \"task\": \"22\", \"web_results\": [{\"click\": 1, \"id\": \"22436\"}, {\"click\": 1, \"id\": \"101783\"}, {\"click\": 1, \"id\": \"101785\"}, {\"click\": 1, \"id\": \"232134\"}, {\"click\": 0, \"id\": \"232132\"}, {\"click\": 1, \"id\": \"579\"}, {\"click\": 1, \"id\": \"232135\"}, {\"click\": 1, \"id\": \"232136\"}, {\"click\": 1, \"id\": \"65990\"}, {\"click\": 0, \"id\": \"232133\"}]}"
      ]
     },
     "execution_count": 159,
     "metadata": {},
     "output_type": "execute_result"
    }
   ],
   "source": [
    "model = CM()\n",
    "search_sessions_path = 'D:/data/weblogs/yan.txt'\n",
    "search_sessions_num = 1000\n",
    "\n",
    "search_sessions = YandexRelPredChallengeParser().parse(search_sessions_path, search_sessions_num)\n",
    "search_sessions[100]"
   ]
  },
  {
   "cell_type": "markdown",
   "metadata": {},
   "source": [
    "## Training"
   ]
  },
  {
   "cell_type": "code",
   "execution_count": 160,
   "metadata": {},
   "outputs": [],
   "source": [
    "train_test_split = int(len(search_sessions) * 0.75)\n",
    "train_sessions = search_sessions[:train_test_split]\n",
    "train_queries = Utils.get_unique_queries(train_sessions)\n",
    "\n",
    "test_sessions = Utils.filter_sessions(search_sessions[train_test_split:], train_queries)\n",
    "test_queries = Utils.get_unique_queries(test_sessions)"
   ]
  },
  {
   "cell_type": "code",
   "execution_count": 163,
   "metadata": {},
   "outputs": [],
   "source": [
    "model.train(train_sessions)"
   ]
  },
  {
   "cell_type": "markdown",
   "metadata": {},
   "source": [
    "## Calculate metrics"
   ]
  },
  {
   "cell_type": "code",
   "execution_count": 164,
   "metadata": {},
   "outputs": [
    {
     "name": "stdout",
     "output_type": "stream",
     "text": [
      "\tlog-likelihood -7.483302985705286\n",
      "\tperplexity: 1.4045907485824538\n",
      "\tlog-likelihood -9.128060212937456\n",
      "\tperplexity: 1.370850096302631\n"
     ]
    }
   ],
   "source": [
    "LogLik = LogLikelihood()\n",
    "Perp = Perplexity()\n",
    "\n",
    "l_val = LogLik.evaluate(model, train_sessions)\n",
    "print (\"\\tlog-likelihood\", l_val)\n",
    "\n",
    "p_val = perplexity.evaluate(model, train_sessions)[0]\n",
    "print (\"\\tperplexity:\", p_val)\n",
    "\n",
    "l_val = LogLik.evaluate(model, test_sessions)\n",
    "print (\"\\tlog-likelihood\", l_val)\n",
    "\n",
    "p_val = perplexity.evaluate(model, test_sessions)[0]\n",
    "print (\"\\tperplexity:\", p_val)"
   ]
  },
  {
   "cell_type": "markdown",
   "metadata": {},
   "source": [
    "## Credits & Links"
   ]
  },
  {
   "cell_type": "code",
   "execution_count": null,
   "metadata": {},
   "outputs": [],
   "source": [
    "https://github.com/markovi/PyClick/blob/master/examples/Example.py"
   ]
  }
 ],
 "metadata": {
  "kernelspec": {
   "display_name": "Python 3.8.1 64-bit",
   "language": "python",
   "name": "python38164bitc33de82c9da04edea88eb124459bf44a"
  },
  "language_info": {
   "codemirror_mode": {
    "name": "ipython",
    "version": 3
   },
   "file_extension": ".py",
   "mimetype": "text/x-python",
   "name": "python",
   "nbconvert_exporter": "python",
   "pygments_lexer": "ipython3",
   "version": "3.8.1"
  }
 },
 "nbformat": 4,
 "nbformat_minor": 4
}
