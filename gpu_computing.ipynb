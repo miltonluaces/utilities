{
 "cells": [
  {
   "cell_type": "code",
   "execution_count": 3,
   "metadata": {},
   "outputs": [
    {
     "name": "stderr",
     "output_type": "stream",
     "text": [
      "c:\\program files\\python38\\lib\\site-packages\\numba\\cuda\\envvars.py:17: NumbaWarning: \u001b[1m\n",
      "Environment variables with the 'NUMBAPRO' prefix are deprecated and consequently ignored, found use of NUMBAPRO_NVVM=C:\\Program Files\\NVIDIA GPU Computing Toolkit\\CUDA\\v10.2\\nvvm\\lib\\x64\\nvvm.lib.\n",
      "\n",
      "For more information about alternatives visit: ('http://numba.pydata.org/numba-doc/latest/cuda/overview.html', '#cudatoolkit-lookup')\u001b[0m\n",
      "  warnings.warn(errors.NumbaWarning(msg))\n",
      "c:\\program files\\python38\\lib\\site-packages\\numba\\cuda\\envvars.py:17: NumbaWarning: \u001b[1m\n",
      "Environment variables with the 'NUMBAPRO' prefix are deprecated and consequently ignored, found use of NUMBAPRO_CUDALIB=C:\\Program Files\\NVIDIA GPU Computing Toolkit\\CUDA\\v10.2\\bin.\n",
      "\n",
      "For more information about alternatives visit: ('http://numba.pydata.org/numba-doc/latest/cuda/overview.html', '#cudatoolkit-lookup')\u001b[0m\n",
      "  warnings.warn(errors.NumbaWarning(msg))\n",
      "c:\\program files\\python38\\lib\\site-packages\\numba\\cuda\\envvars.py:17: NumbaWarning: \u001b[1m\n",
      "Environment variables with the 'NUMBAPRO' prefix are deprecated and consequently ignored, found use of NUMBAPRO_LIBDEVICE=C:\\Program Files\\NVIDIA GPU Computing Toolkit\\CUDA\\v10.2\\nvvm\\libdevice\\.\n",
      "\n",
      "For more information about alternatives visit: ('http://numba.pydata.org/numba-doc/latest/cuda/overview.html', '#cudatoolkit-lookup')\u001b[0m\n",
      "  warnings.warn(errors.NumbaWarning(msg))\n"
     ]
    }
   ],
   "source": [
    "import numpy as np\n",
    "from timeit import default_timer as timer\n",
    "from numba import jit, cuda \n",
    "from numba import vectorize  \n",
    "import warnings\n",
    "warnings.filterwarnings(\"ignore\")"
   ]
  },
  {
   "cell_type": "code",
   "execution_count": 10,
   "metadata": {},
   "outputs": [],
   "source": [
    "# normal function to run on cpu \n",
    "n = 1000000\n",
    "def func(a):                                 \n",
    "    for i in range(n): \n",
    "        a[i]+= 1      "
   ]
  },
  {
   "cell_type": "code",
   "execution_count": 11,
   "metadata": {},
   "outputs": [],
   "source": [
    "# function optimized to run on gpu  \n",
    "@jit                          \n",
    "def func2(a): \n",
    "    for i in range(n): \n",
    "        a[i]+= 1"
   ]
  },
  {
   "cell_type": "code",
   "execution_count": 12,
   "metadata": {},
   "outputs": [
    {
     "name": "stdout",
     "output_type": "stream",
     "text": [
      "without GPU: 0.44546760000000063\n",
      "with GPU: 0.05770979999999781\n"
     ]
    }
   ],
   "source": [
    "a = np.ones(n, dtype = np.float64) \n",
    "b = np.ones(n, dtype = np.float32) \n",
    "\n",
    "start = timer() \n",
    "func(a) \n",
    "print(\"without GPU:\", timer()-start)     \n",
    "\n",
    "start = timer() \n",
    "func2(a) \n",
    "print(\"with GPU:\", timer()-start) "
   ]
  },
  {
   "cell_type": "code",
   "execution_count": 13,
   "metadata": {},
   "outputs": [
    {
     "name": "stdout",
     "output_type": "stream",
     "text": [
      "0.05818330000001026\n"
     ]
    }
   ],
   "source": [
    "def VecADD(a,b):\n",
    "    return a+b        \n",
    "\n",
    "n = 32000000\n",
    "a = np.ones (n, dtype=np.float32) \n",
    "b = np.ones (n, dtype=np.float32)     \n",
    "c = np.zeros(n, dtype=np.float32) \n",
    "\n",
    "start = timer()\n",
    "C = VecADD(a,b)\n",
    "print (timer() - start)"
   ]
  },
  {
   "cell_type": "code",
   "execution_count": 14,
   "metadata": {},
   "outputs": [
    {
     "name": "stdout",
     "output_type": "stream",
     "text": [
      "1.3164692000000002\n"
     ]
    }
   ],
   "source": [
    "@vectorize([\"float32(float32, float32)\"], target='cuda')     \n",
    "def VecADD(a,b):\n",
    "    return a+b        \n",
    "\n",
    "n = 32000000\n",
    "a = np.ones (n, dtype=np.float32) \n",
    "b = np.ones (n, dtype=np.float32)     \n",
    "c = np.zeros(n, dtype=np.float32) \n",
    "\n",
    "start = timer()\n",
    "C = VecADD(a,b)\n",
    "print (timer() - start)"
   ]
  },
  {
   "cell_type": "code",
   "execution_count": 15,
   "metadata": {},
   "outputs": [],
   "source": [
    "import numpy as np\n",
    "from numba import jit\n",
    "\n",
    "N = int(1e8)\n",
    "@jit\n",
    "def Brownian_motions(T, N, corr):\n",
    "    x = np.random.normal(0, 1, size=(T,N))\n",
    "    z = np.random.normal(0, 1, size=(T,N))\n",
    "    y = np.zeros(shape=(T,N))\n",
    "    for i in range(T):\n",
    "        for j in range(N):\n",
    "            y[i,j] = corr*x[i,j] + np.sqrt(1.-corr**2)*z[i,j]\n",
    "    return(x,y)"
   ]
  },
  {
   "cell_type": "code",
   "execution_count": null,
   "metadata": {},
   "outputs": [],
   "source": [
    "x, y = Brownian_motions(T = 500, N = N, corr = -0.45)"
   ]
  },
  {
   "cell_type": "markdown",
   "metadata": {},
   "source": [
    "## Credits & Links"
   ]
  },
  {
   "cell_type": "markdown",
   "metadata": {},
   "source": [
    "https://stackoverflow.com/questions/60117150/bounds-checking-is-not-supported-for-cuda\n",
    "https://www.geeksforgeeks.org/running-python-script-on-gpu/"
   ]
  }
 ],
 "metadata": {
  "kernelspec": {
   "display_name": "Python 3",
   "language": "python",
   "name": "python3"
  },
  "language_info": {
   "codemirror_mode": {
    "name": "ipython",
    "version": 3
   },
   "file_extension": ".py",
   "mimetype": "text/x-python",
   "name": "python",
   "nbconvert_exporter": "python",
   "pygments_lexer": "ipython3",
   "version": "3.8.1"
  }
 },
 "nbformat": 4,
 "nbformat_minor": 4
}
