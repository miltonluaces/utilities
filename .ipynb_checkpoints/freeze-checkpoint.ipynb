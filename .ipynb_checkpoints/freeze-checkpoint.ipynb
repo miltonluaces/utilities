{
 "cells": [
  {
   "cell_type": "code",
   "execution_count": 3,
   "metadata": {},
   "outputs": [
    {
     "name": "stderr",
     "output_type": "stream",
     "text": [
      "WARNING: Could not generate requirement for distribution -ygments 2.5.2 (c:\\program files\\python37\\lib\\site-packages): Parse error at \"'-ygments'\": Expected W:(abcd...)\n",
      "WARNING: Could not generate requirement for distribution -etuptools 42.0.1 (c:\\program files\\python37\\lib\\site-packages): Parse error at \"'-etuptoo'\": Expected W:(abcd...)\n"
     ]
    }
   ],
   "source": [
    "!pip freeze > d:/source/repos/utilities/modules.txt"
   ]
  },
  {
   "cell_type": "code",
   "execution_count": null,
   "metadata": {},
   "outputs": [],
   "source": []
  }
 ],
 "metadata": {
  "kernelspec": {
   "display_name": "Python 3",
   "language": "python",
   "name": "python3"
  },
  "language_info": {
   "codemirror_mode": {
    "name": "ipython",
    "version": 3
   },
   "file_extension": ".py",
   "mimetype": "text/x-python",
   "name": "python",
   "nbconvert_exporter": "python",
   "pygments_lexer": "ipython3",
   "version": "3.7.1"
  }
 },
 "nbformat": 4,
 "nbformat_minor": 4
}
