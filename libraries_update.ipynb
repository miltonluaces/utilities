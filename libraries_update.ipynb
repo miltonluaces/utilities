{
 "cells": [
  {
   "cell_type": "markdown",
   "metadata": {},
   "source": [
    "# Libraries Update"
   ]
  },
  {
   "cell_type": "code",
   "execution_count": 2,
   "metadata": {},
   "outputs": [],
   "source": [
    "import numpy as np\n",
    "import pandas as pd\n",
    "from update_checker import update_check\n",
    "from update_checker import UpdateChecker"
   ]
  },
  {
   "cell_type": "code",
   "execution_count": 71,
   "metadata": {},
   "outputs": [
    {
     "name": "stderr",
     "output_type": "stream",
     "text": [
      "WARNING: Could not generate requirement for distribution -illow 7.0.0 (c:\\program files\\python38\\lib\\site-packages): Parse error at \"'-illow=='\": Expected W:(abcd...)\n"
     ]
    }
   ],
   "source": [
    "!pip freeze > D:/source/repos/utilities/requirements.txt"
   ]
  },
  {
   "cell_type": "code",
   "execution_count": 79,
   "metadata": {},
   "outputs": [
    {
     "data": {
      "text/plain": [
       "'absl-py'"
      ]
     },
     "execution_count": 79,
     "metadata": {},
     "output_type": "execute_result"
    }
   ],
   "source": [
    "uc = UpdateChecker()\n",
    "tokens = req['name'][0].split(sep='==')\n",
    "res = uc.check(tokens[0], tokens[1])\n",
    "res.package_name"
   ]
  },
  {
   "cell_type": "code",
   "execution_count": 87,
   "metadata": {},
   "outputs": [],
   "source": [
    "req = pd.read_csv('D:/source/repos/utilities/requirements.txt', header=None)\n",
    "req.columns = ['name']\n",
    "\n",
    "f = open(\"D:/source/repos/utilities/updates.txt'\", \"w\")\n",
    "for lib in req['name']:\n",
    "    tokens = lib.split(sep='==')\n",
    "    if len(tokens)<2: continue\n",
    "    res = uc.check(tokens[0], tokens[1])\n",
    "    if res != None: \n",
    "        f.write('pip install --upgrade '+ res.package_name + '\\n')\n",
    "f.close()"
   ]
  },
  {
   "cell_type": "code",
   "execution_count": null,
   "metadata": {},
   "outputs": [],
   "source": []
  }
 ],
 "metadata": {
  "kernelspec": {
   "display_name": "Python 3.8.1 64-bit",
   "language": "python",
   "name": "python38164bitc33de82c9da04edea88eb124459bf44a"
  },
  "language_info": {
   "codemirror_mode": {
    "name": "ipython",
    "version": 3
   },
   "file_extension": ".py",
   "mimetype": "text/x-python",
   "name": "python",
   "nbconvert_exporter": "python",
   "pygments_lexer": "ipython3",
   "version": "3.8.1"
  }
 },
 "nbformat": 4,
 "nbformat_minor": 4
}
