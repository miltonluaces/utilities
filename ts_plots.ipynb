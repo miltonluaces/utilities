{
 "cells": [
  {
   "cell_type": "markdown",
   "metadata": {},
   "source": [
    "# Time Series plots"
   ]
  },
  {
   "cell_type": "markdown",
   "metadata": {},
   "source": [
    "## Basic plots"
   ]
  },
  {
   "cell_type": "code",
   "execution_count": null,
   "metadata": {},
   "outputs": [],
   "source": [
    "from utilities.std_imports import *\n",
    "import quandl\n",
    "import plotly\n",
    "import chart_studio.plotly as py\n",
    "import plotly.graph_objs as go \n",
    "\n",
    "from datetime import datetime\n",
    "import pandas_datareader.data as web"
   ]
  },
  {
   "cell_type": "code",
   "execution_count": null,
   "metadata": {},
   "outputs": [],
   "source": [
    "# Plot history and forecast in the same plot\n",
    "def PlotFcst(hist, fcst):\n",
    "    tot = list(hist) + list(fcst)\n",
    "    plt.plot(tot, color='r')\n",
    "    plt.plot(hist, color='b')\n",
    "    plt.show()\n",
    "\n",
    "def PlotFcstValid(train, test, fcst):\n",
    "    nH = len(train)\n",
    "    nF = len(fcst)\n",
    "    histIdx = np.arange(nH)\n",
    "    fcstIdx = np.arange(nH, nH+nF)\n",
    "    plt.figure()\n",
    "    plt.plot(histIdx, train, label='Train', Color='b', lw=1.)\n",
    "    plt.plot(fcstIdx, test, label='Test', Color='g', lw=1.)\n",
    "    plt.plot(fcstIdx, fcst, label='Fcst', Color='r', lw=1.)\n",
    "    plt.legend(loc='best')\n",
    "    plt.show()"
   ]
  },
  {
   "cell_type": "markdown",
   "metadata": {},
   "source": [
    "## Interactive plot"
   ]
  },
  {
   "cell_type": "code",
   "execution_count": null,
   "metadata": {},
   "outputs": [],
   "source": [
    "#plotly.tools.set_credentials_file(username='miltonMartz', api_key='VkMfxms2NpfzxftWU269')\n",
    "\n",
    "df = quandl.get(\"WIKI/AAPL\", start_date=\"2007-10-01\", end_date=\"2009-04-01\")\n",
    "#df = web.DataReader('AAPL.US', 'quandl', datetime(2007, 10, 1), datetime(2009, 4, 1))\n",
    "\n",
    "trace = go.Scatter(x=list(df.index), y=list(df.High))\n",
    "\n",
    "data = [trace]\n",
    "layout = dict(\n",
    "    title='Time series with range slider and selectors',\n",
    "    xaxis=dict(\n",
    "        rangeselector=dict(\n",
    "            buttons=list([\n",
    "                dict(count=1, label='1m' , step='month', stepmode='backward'),\n",
    "                dict(count=6, label='6m' , step='month', stepmode='backward'),\n",
    "                dict(count=1, label='YTD', step='year' , stepmode='todate'),\n",
    "                dict(count=1, label='1y' , step='year' , stepmode='backward'),\n",
    "                dict(step='all')\n",
    "            ])\n",
    "        ),\n",
    "        rangeslider=dict(visible = True), \n",
    "        type='date'\n",
    "    )\n",
    ")\n",
    "\n",
    "fig = dict(data=data, layout=layout)\n",
    "\n",
    "py.plot(fig)\n"
   ]
  }
 ],
 "metadata": {
  "kernelspec": {
   "display_name": "Python 3",
   "language": "python",
   "name": "python3"
  },
  "language_info": {
   "codemirror_mode": {
    "name": "ipython",
    "version": 3
   },
   "file_extension": ".py",
   "mimetype": "text/x-python",
   "name": "python",
   "nbconvert_exporter": "python",
   "pygments_lexer": "ipython3",
   "version": "3.8.1"
  }
 },
 "nbformat": 4,
 "nbformat_minor": 4
}
