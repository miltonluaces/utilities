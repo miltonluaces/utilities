{
 "cells": [
  {
   "cell_type": "code",
   "execution_count": null,
   "metadata": {},
   "outputs": [],
   "source": [
    "from jnius import autoclass\n",
    "\n",
    "System = autoclass('java.lang.System')\n",
    "System.out.println('Hello World')\n",
    "\n",
    "Stack = autoclass('java.util.Stack')\n",
    "stack = Stack()\n",
    "stack.push('a')\n",
    "stack.push('b')\n",
    "\n",
    "print(stack.pop())\n",
    "print(stack.pop())\n",
    "\n",
    "import jnius_config\n",
    "import os\n",
    "import subprocess\n",
    "\n",
    "jnius_config.add_classpath('.')\n",
    "\n",
    "java_mwe = \"\"\"\n",
    "public class MWE\n",
    "{\n",
    "    public void doSomething( long[] array ) {\n",
    "        System.out.println(\"One argument.\");\n",
    "    }\n",
    "    \n",
    "    public void doSomething( long[] array, int[] otherArray ) {\n",
    "        System.out.println(\"Two arguments.\");\n",
    "    }\n",
    "    \n",
    "}\n",
    "\"\"\"\n",
    "\n",
    "fp = 'MWE.java'\n",
    "with open( fp, 'w' ) as f:\n",
    "    f.write( java_mwe )\n",
    "\n",
    "javac = '{}/bin/javac'.format(os.environ[ 'JAVA_HOME' ])\n",
    "proc = subprocess.run( \n",
    "    [ javac, '-cp', jnius_config.split_char.join( jnius_config.get_classpath() ), fp ],\n",
    "    stdout=subprocess.PIPE,\n",
    "    stderr=subprocess.PIPE)\n",
    "if proc.returncode != 0:\n",
    "    print ( proc.stderr )\n",
    "\n",
    "from jnius import autoclass\n",
    "\n",
    "MWE = autoclass('MWE')\n",
    "mwe = MWE()\n",
    "a = [1,2,3]\n",
    "b = [1,2,3]\n",
    "mwe.doSomething(a)\n",
    "mwe.doSomething(a, b)"
   ]
  }
 ],
 "metadata": {
  "kernelspec": {
   "display_name": "Python 3",
   "language": "python",
   "name": "python3"
  },
  "language_info": {
   "codemirror_mode": {
    "name": "ipython",
    "version": 3
   },
   "file_extension": ".py",
   "mimetype": "text/x-python",
   "name": "python",
   "nbconvert_exporter": "python",
   "pygments_lexer": "ipython3",
   "version": "3.8.1"
  }
 },
 "nbformat": 4,
 "nbformat_minor": 4
}
